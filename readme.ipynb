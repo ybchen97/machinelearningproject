{
 "cells": [
  {
   "cell_type": "markdown",
   "metadata": {},
   "source": [
    "# My first machine learning project"
   ]
  },
  {
   "cell_type": "markdown",
   "metadata": {},
   "source": [
    "### Introduction: \n",
    "\n",
    "### In this project, I will be looking at a typical imbalanced binary classification problem\\* where the number of responses in the negative class greatly outweighs that of the positive class, and taking a look at a few machine learning algorithms that are used in these cases. \n",
    "\n",
    "\\*Fortunately for me, I have the opportunity to work on a real world dataset and this challenge led me to many new insights to the world of machine learning and data science. That said, due to the sensitivity of this information, I will be anonymising ALL of the important features and information that will be presented in this project, as you will see later.\n",
    "\n",
    "### Background:\n",
    "This project will be looking at a company that provides an online restaurant reservation service. With its natively developed online platform, this company offers its users the ability to instantly reserve restaurants ahead of time on a 24/7 basis and also provides diners with a hassle-free dining experience via its seating and queue management technologies.\n",
    "\n",
    "One usual product/feature offered by this sort of companies are discount vouchers. These vouchers adds as an incentive for customers to utilise the company’s reservation platform and also helps to introduce new restaurants to customers. Typically, these vouchers are bought along with the reservation of the restaurant.\n",
    "\n",
    "### Objective:\n",
    "Our objective in this machine learning project is to examine the specific characteristics of each reservation and predict which reservation will lead to the purchase of these vouchers.\n",
    "\n",
    "### Why?\n",
    "Restaurant voucher sales are of strategic importance because:\n",
    "* It helps to reduce the no-show rate of reservations\n",
    "* It encourages users to try out new restaurants that they otherwise might not try- introducing a discovery utility to the platform\n",
    "* It increases user satisfaction by offering them a good deal and potentially expands their lifetime value\n",
    "\n",
    "### General workflow:\n",
    "Because this is a raw dataset, there are additional steps to prepare the data to make sure it is readable to the code libraries that I will be using. A large proportion of time was actually spent on cleaning and parsing the data, but none of this processing will be shown on the notebooks in this project.\n",
    "1. Parsing and cleaning the data to make sure it is readable and compatible with the code\n",
    "2. Split data into training and testing sets\n",
    "3. Resample the dataset to combat the class imbalances\n",
    "4. Apply data to classification prediction models and machine learning tools\n",
    "5. Optimise model's precision/ recall by fine tuning parameters\n",
    "\n",
    "### Models to apply:\n",
    "* Logistic regression\n",
    "* XGboost\n",
    "\n",
    "### Some assumptions and limitations\n",
    "* I’m assuming that the vouchers are going to be bought together with or after the reservation is made for simplicity's sake\n",
    "* Since this is a real world dataset, there is also a good chance that there might not be enough telling features present in the dataset to generate a good classification model. If this is the case, it can be seen directly from the results of the model itself."
   ]
  },
  {
   "cell_type": "markdown",
   "metadata": {},
   "source": []
  }
 ],
 "metadata": {
  "anaconda-cloud": {},
  "kernelspec": {
   "display_name": "Python 2",
   "language": "python",
   "name": "python2"
  },
  "language_info": {
   "codemirror_mode": {
    "name": "ipython",
    "version": 2
   },
   "file_extension": ".py",
   "mimetype": "text/x-python",
   "name": "python",
   "nbconvert_exporter": "python",
   "pygments_lexer": "ipython2",
   "version": "2.7.14"
  }
 },
 "nbformat": 4,
 "nbformat_minor": 2
}
