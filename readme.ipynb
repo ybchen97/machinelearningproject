{
 "cells": [
  {
   "cell_type": "markdown",
   "metadata": {},
   "source": [
    "# GA Data Science #5 Project"
   ]
  },
  {
   "cell_type": "markdown",
   "metadata": {},
   "source": [
    "# Introduction: Chope is the largest online reservations platform in Southeast Asia. It offers users the ability to instantly reserve restaurants on a 24/7 basis and recently introduced restaurant voucher sales as an e-commerce initiative. \n",
    "\n",
    "## Objective: Predict which reservation will lead to voucher purchase(s).\n",
    "\n",
    "### Why this objective? \n",
    "### Restaurant voucher sales are of strategic importance because:\n",
    "* It represents additional revenues to restaurants on the platform\n",
    "* It helps to reduce the no-show rate of reservations\n",
    "* It encourages users to try out new restaurants that they otherwise might not try- introducing a discovery utility to the platform\n",
    "* It increases user satisfaction by offering them a good deal and potentially expands their lifetime value\n",
    "* It provides Chope with a very cheap source of short-term working capital \n",
    "\n",
    "### General workflow:\n",
    "* Obtain reservation raw data and voucher purchase raw data\n",
    "* Parse and clean data\n",
    "* Link reservation occurence to voucher purchase through a set of pre-defined conditions\n",
    "* Assess features' importance of reservation and voucher purchase data\n",
    "* Split data into training and testing sets using cross-validation method\n",
    "* Apply data to classification prediction models and machine learning tools\n",
    "* Optimise model's precision/ recall by fine tuning parameters\n",
    "* Make recommendations on data models based on results\n",
    "\n",
    "### Models to apply:\n",
    "* Logistic regression\n",
    "* XGboost\n",
    "* Keras Neural Network: Sequential\n"
   ]
  },
  {
   "cell_type": "markdown",
   "metadata": {},
   "source": []
  }
 ],
 "metadata": {
  "anaconda-cloud": {},
  "kernelspec": {
   "display_name": "Python 2",
   "language": "python",
   "name": "python2"
  },
  "language_info": {
   "codemirror_mode": {
    "name": "ipython",
    "version": 2
   },
   "file_extension": ".py",
   "mimetype": "text/x-python",
   "name": "python",
   "nbconvert_exporter": "python",
   "pygments_lexer": "ipython2",
   "version": "2.7.14"
  }
 },
 "nbformat": 4,
 "nbformat_minor": 2
}
