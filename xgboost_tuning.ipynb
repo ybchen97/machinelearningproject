{
 "cells": [
  {
   "cell_type": "markdown",
   "metadata": {},
   "source": [
    "#### Things to do\n",
    "* Learn GridSearchCV"
   ]
  },
  {
   "cell_type": "markdown",
   "metadata": {},
   "source": [
    "#### Approach\n",
    "1. Split into train and test datasets\n",
    "2. Over/Undersample the train dataset\n",
    "3. Tune the model\n",
    "    1. Use the crossval function to find the appropriate n_estimators to start with\n",
    "    2. GridSearchCV the appropriate parameters\n",
    "5. Test the model with new parameters\n",
    "6. Repeat until best results"
   ]
  },
  {
   "cell_type": "code",
   "execution_count": 2,
   "metadata": {
    "collapsed": true
   },
   "outputs": [],
   "source": [
    "import pandas as pd\n",
    "import numpy as np\n",
    "import xgboost as xgb\n",
    "from xgboost.sklearn import XGBClassifier\n",
    "from sklearn.model_selection import GridSearchCV, train_test_split\n",
    "from sklearn.metrics import (accuracy_score, \n",
    "                             precision_recall_fscore_support, \n",
    "                             average_precision_score, \n",
    "                             roc_auc_score, \n",
    "                             confusion_matrix,\n",
    "                             precision_recall_curve)\n",
    "\n",
    "import matplotlib.pylab as plt\n",
    "%matplotlib inline\n",
    "from matplotlib.pylab import rcParams\n",
    "rcParams['figure.figsize'] = 12, 4"
   ]
  },
  {
   "cell_type": "code",
   "execution_count": 3,
   "metadata": {
    "collapsed": true
   },
   "outputs": [],
   "source": [
    "df = pd.read_csv('data/res_anon_working.csv')"
   ]
  },
  {
   "cell_type": "code",
   "execution_count": 4,
   "metadata": {
    "collapsed": true
   },
   "outputs": [],
   "source": [
    "feat_lst = list(df)\n",
    "feat_lst.pop(-1)\n",
    "X = df[feat_lst]\n",
    "y = df['Class']"
   ]
  },
  {
   "cell_type": "markdown",
   "metadata": {},
   "source": [
    "### Defining tuning function and model evaluation functions"
   ]
  },
  {
   "cell_type": "code",
   "execution_count": 34,
   "metadata": {},
   "outputs": [],
   "source": [
    "def crossval(model, X, y, cv_folds=5, early_stopping_rounds=50):\n",
    "    xgb_param = model.get_xgb_params()\n",
    "    xgb_train = xgb.DMatrix(X_train.as_matrix(), label=y_train.as_matrix())\n",
    "    print 'Running cross validation...'\n",
    "    cvresult = xgb.cv(xgb_param, xgb_train, num_boost_round=model.get_params()['n_estimators'],\n",
    "                      nfold=cv_folds, stratified=True, metrics='auc',\n",
    "                      early_stopping_rounds=early_stopping_rounds,\n",
    "                      verbose_eval=False, seed=42)\n",
    "    print cvresult.loc[cvresult.shape[0]-1]\n",
    "    print 'Best iteration: ' + str(cvresult.shape[0])"
   ]
  },
  {
   "cell_type": "code",
   "execution_count": 17,
   "metadata": {
    "collapsed": true
   },
   "outputs": [],
   "source": [
    "def model_eval(X, y, model):\n",
    "    y_pred = model.predict(X)\n",
    "    accuracy = accuracy_score(y, y_pred)\n",
    "    print(confusion_matrix(y, y_pred))\n",
    "    print(\"Accuracy: %.2f%%\" % (accuracy * 100.0))\n",
    "    tn, fp, fn, tp = confusion_matrix(y, y_pred).ravel()\n",
    "    print('Precision: %f' % (float(tp)/(tp + fp)))\n",
    "    print('Recall: %f' % (float(tp)/(tp + fn)))\n",
    "    y_proba = model.predict_proba(X)[:,1]\n",
    "    print('AUC: %f' % roc_auc_score(y, y_proba))"
   ]
  },
  {
   "cell_type": "code",
   "execution_count": 18,
   "metadata": {
    "collapsed": true
   },
   "outputs": [],
   "source": [
    "def pr_eval(X, y, model):\n",
    "    y_proba = model.predict_proba(X)[:,1]\n",
    "    average_precision = average_precision_score(y, y_proba)\n",
    "    print('Average precision-recall score: {0:0.2f}'.format(average_precision))\n",
    "        \n",
    "    precision, recall, _ = precision_recall_curve(y, y_proba)\n",
    "    plt.step(recall, precision, color='b', alpha=0.2, where='post')\n",
    "    plt.fill_between(recall, precision, step='post', alpha=0.2, color='b')\n",
    "    plt.xlabel('Recall')\n",
    "    plt.ylabel('Precision')\n",
    "    plt.ylim([0.0, 1.05])\n",
    "    plt.xlim([0.0, 1.0])\n",
    "    plt.title('2-class Precision-Recall curve: AP={0:0.2f}'.format(average_precision))"
   ]
  },
  {
   "cell_type": "code",
   "execution_count": 19,
   "metadata": {
    "collapsed": true
   },
   "outputs": [],
   "source": [
    "def graph_eval(X, y, model):\n",
    "    p_range = np.arange(0.1, 1, 0.1) \n",
    "    p_range\n",
    "    precisions = []\n",
    "    recalls = []\n",
    "    f1s = []\n",
    "    prob_range = []\n",
    "    # model.fit(X, y)\n",
    "\n",
    "    pred = model.predict_proba(X)\n",
    "    for p in p_range:\n",
    "\n",
    "        pred_tmp = pred[:, 1].copy()\n",
    "        pred_tmp[pred_tmp > p] = 1\n",
    "        pred_tmp[pred_tmp <= p] = 0\n",
    "        tn, fp, fn, tp = confusion_matrix(y, pred_tmp).ravel()\n",
    "        if tp == 0: \n",
    "            continue\n",
    "        prec = (float(tp)/(tp + fp))\n",
    "        rec = (float(tp)/(tp + fn))\n",
    "        f1 = 2 * prec * rec / (prec + rec)\n",
    "        precisions.append(prec)\n",
    "        recalls.append(rec)\n",
    "        f1s.append(f1)\n",
    "        prob_range.append(p)\n",
    "\n",
    "    # plot the results\n",
    "    plt.plot(prob_range, precisions, 'k', label='Precision')\n",
    "    plt.plot(prob_range, recalls, 'g', label='Recall')\n",
    "    plt.plot(prob_range, f1s, 'b', label='F1')\n",
    "    plt.xlabel('Prob Range')\n",
    "    plt.ylabel('Score')\n",
    "    plt.grid(True)\n",
    "    plt.legend(bbox_to_anchor=(1.05, 1))"
   ]
  },
  {
   "cell_type": "markdown",
   "metadata": {},
   "source": [
    "### Splitting dataset for training and testing, oversampling the train dataset"
   ]
  },
  {
   "cell_type": "code",
   "execution_count": 5,
   "metadata": {
    "collapsed": true
   },
   "outputs": [],
   "source": [
    "X_train, X_test, y_train, y_test = train_test_split(X, y, test_size=0.3, random_state=21, stratify=y)"
   ]
  },
  {
   "cell_type": "code",
   "execution_count": 20,
   "metadata": {},
   "outputs": [
    {
     "name": "stdout",
     "output_type": "stream",
     "text": [
      "[(0.0, 61290), (1.0, 61290)]\n"
     ]
    }
   ],
   "source": [
    "from imblearn.over_sampling import RandomOverSampler, SMOTE, ADASYN\n",
    "ros = RandomOverSampler(random_state=0)\n",
    "X_ros_resampled, y_ros_resampled = ros.fit_sample(X_train, y_train)\n",
    "from collections import Counter\n",
    "print sorted(Counter(y_ros_resampled).items())"
   ]
  },
  {
   "cell_type": "code",
   "execution_count": 35,
   "metadata": {
    "scrolled": true
   },
   "outputs": [
    {
     "name": "stdout",
     "output_type": "stream",
     "text": [
      "Running cross validation...\n",
      "test-auc-mean     0.741493\n",
      "test-auc-std      0.006192\n",
      "train-auc-mean    0.908123\n",
      "train-auc-std     0.001563\n",
      "Name: 396, dtype: float64\n",
      "Best iteration: 397\n"
     ]
    }
   ],
   "source": [
    "xgb1 = XGBClassifier(learning_rate=0.1,\n",
    "                     n_estimators=1000,\n",
    "                     max_depth=5,\n",
    "                     min_child_weight=1,\n",
    "                     gamma=0,\n",
    "                     subsample=0.8,\n",
    "                     colsample_bytree=0.8,\n",
    "                     objective='binary:logistic',\n",
    "                     n_jobs=-1,\n",
    "                     scale_pos_weight=1,\n",
    "                     seed=27)\n",
    "crossval(xgb1, X_ros_resampled, y_ros_resampled,)"
   ]
  },
  {
   "cell_type": "markdown",
   "metadata": {},
   "source": [
    "### Using GridSearchCV to tune max_depth and min_child_weight"
   ]
  },
  {
   "cell_type": "code",
   "execution_count": 38,
   "metadata": {},
   "outputs": [
    {
     "data": {
      "text/plain": [
       "GridSearchCV(cv=5, error_score='raise',\n",
       "       estimator=XGBClassifier(base_score=0.5, booster='gbtree', colsample_bylevel=1,\n",
       "       colsample_bytree=0.8, gamma=0, learning_rate=0.1, max_delta_step=0,\n",
       "       max_depth=5, min_child_weight=1, missing=None, n_estimators=397,\n",
       "       n_jobs=-1, nthread=None, objective='binary:logistic',\n",
       "       random_state=0, reg_alpha=0, reg_lambda=1, scale_pos_weight=1,\n",
       "       seed=27, silent=True, subsample=0.8),\n",
       "       fit_params=None, iid=False, n_jobs=-1,\n",
       "       param_grid={'max_depth': [3, 5, 7, 9], 'min_child_weight': [1, 3, 5]},\n",
       "       pre_dispatch='2*n_jobs', refit=True, return_train_score='warn',\n",
       "       scoring='roc_auc', verbose=0)"
      ]
     },
     "execution_count": 38,
     "metadata": {},
     "output_type": "execute_result"
    }
   ],
   "source": [
    "param_test1 = {\n",
    "    'max_depth': range(3, 10, 2),\n",
    "    'min_child_weight': range(1, 6, 2)\n",
    "}\n",
    "\n",
    "gsearch1 = GridSearchCV(estimator=XGBClassifier(learning_rate=0.1,\n",
    "                                                n_estimators=397,\n",
    "                                                max_depth=5,\n",
    "                                                min_child_weight=1,\n",
    "                                                gamma=0,\n",
    "                                                subsample=0.8,\n",
    "                                                colsample_bytree=0.8,\n",
    "                                                objective='binary:logistic',\n",
    "                                                n_jobs=-1,\n",
    "                                                scale_pos_weight=1,\n",
    "                                                seed=27\n",
    "                                               ),\n",
    "                        param_grid=param_test1,\n",
    "                        scoring='roc_auc',\n",
    "                        n_jobs=-1,\n",
    "                        iid=False,\n",
    "                        cv=5\n",
    "                       )\n",
    "gsearch1.fit(X_ros_resampled, y_ros_resampled)"
   ]
  },
  {
   "cell_type": "code",
   "execution_count": 44,
   "metadata": {
    "scrolled": true
   },
   "outputs": [
    {
     "name": "stderr",
     "output_type": "stream",
     "text": [
      "/Users/yuanbo/anaconda/lib/python2.7/site-packages/sklearn/model_selection/_search.py:761: DeprecationWarning: The grid_scores_ attribute was deprecated in version 0.18 in favor of the more elaborate cv_results_ attribute. The grid_scores_ attribute will not be available from 0.20\n",
      "  DeprecationWarning)\n"
     ]
    },
    {
     "data": {
      "text/plain": [
       "([mean: 0.80790, std: 0.00196, params: {'max_depth': 3, 'min_child_weight': 1},\n",
       "  mean: 0.80828, std: 0.00147, params: {'max_depth': 3, 'min_child_weight': 3},\n",
       "  mean: 0.80876, std: 0.00193, params: {'max_depth': 3, 'min_child_weight': 5},\n",
       "  mean: 0.91712, std: 0.00078, params: {'max_depth': 5, 'min_child_weight': 1},\n",
       "  mean: 0.91457, std: 0.00169, params: {'max_depth': 5, 'min_child_weight': 3},\n",
       "  mean: 0.91471, std: 0.00108, params: {'max_depth': 5, 'min_child_weight': 5},\n",
       "  mean: 0.97810, std: 0.00099, params: {'max_depth': 7, 'min_child_weight': 1},\n",
       "  mean: 0.97654, std: 0.00114, params: {'max_depth': 7, 'min_child_weight': 3},\n",
       "  mean: 0.97336, std: 0.00096, params: {'max_depth': 7, 'min_child_weight': 5},\n",
       "  mean: 0.99479, std: 0.00042, params: {'max_depth': 9, 'min_child_weight': 1},\n",
       "  mean: 0.99339, std: 0.00066, params: {'max_depth': 9, 'min_child_weight': 3},\n",
       "  mean: 0.99187, std: 0.00056, params: {'max_depth': 9, 'min_child_weight': 5}],\n",
       " {'max_depth': 9, 'min_child_weight': 1},\n",
       " 0.99478812535437255)"
      ]
     },
     "execution_count": 44,
     "metadata": {},
     "output_type": "execute_result"
    }
   ],
   "source": [
    "gsearch1.grid_scores_, gsearch1.best_params_, gsearch1.best_score_"
   ]
  },
  {
   "cell_type": "code",
   "execution_count": 45,
   "metadata": {},
   "outputs": [
    {
     "data": {
      "text/plain": [
       "GridSearchCV(cv=5, error_score='raise',\n",
       "       estimator=XGBClassifier(base_score=0.5, booster='gbtree', colsample_bylevel=1,\n",
       "       colsample_bytree=0.8, gamma=0, learning_rate=0.1, max_delta_step=0,\n",
       "       max_depth=5, min_child_weight=1, missing=None, n_estimators=397,\n",
       "       n_jobs=-1, nthread=None, objective='binary:logistic',\n",
       "       random_state=0, reg_alpha=0, reg_lambda=1, scale_pos_weight=1,\n",
       "       seed=27, silent=True, subsample=0.8),\n",
       "       fit_params=None, iid=False, n_jobs=-1,\n",
       "       param_grid={'max_depth': [9, 11, 13], 'min_child_weight': [1, 3, 5]},\n",
       "       pre_dispatch='2*n_jobs', refit=True, return_train_score='warn',\n",
       "       scoring='roc_auc', verbose=0)"
      ]
     },
     "execution_count": 45,
     "metadata": {},
     "output_type": "execute_result"
    }
   ],
   "source": [
    "param_test1 = {\n",
    "    'max_depth': range(9, 15, 2),\n",
    "    'min_child_weight': range(1, 6, 2)\n",
    "}\n",
    "\n",
    "gsearch1 = GridSearchCV(estimator=XGBClassifier(learning_rate=0.1,\n",
    "                                                n_estimators=397,\n",
    "                                                max_depth=5,\n",
    "                                                min_child_weight=1,\n",
    "                                                gamma=0,\n",
    "                                                subsample=0.8,\n",
    "                                                colsample_bytree=0.8,\n",
    "                                                objective='binary:logistic',\n",
    "                                                n_jobs=-1,\n",
    "                                                scale_pos_weight=1,\n",
    "                                                seed=27\n",
    "                                               ),\n",
    "                        param_grid=param_test1,\n",
    "                        scoring='roc_auc',\n",
    "                        n_jobs=-1,\n",
    "                        iid=False,\n",
    "                        cv=5\n",
    "                       )\n",
    "gsearch1.fit(X_ros_resampled, y_ros_resampled)"
   ]
  },
  {
   "cell_type": "code",
   "execution_count": 46,
   "metadata": {},
   "outputs": [
    {
     "name": "stderr",
     "output_type": "stream",
     "text": [
      "/Users/yuanbo/anaconda/lib/python2.7/site-packages/sklearn/model_selection/_search.py:761: DeprecationWarning: The grid_scores_ attribute was deprecated in version 0.18 in favor of the more elaborate cv_results_ attribute. The grid_scores_ attribute will not be available from 0.20\n",
      "  DeprecationWarning)\n"
     ]
    },
    {
     "data": {
      "text/plain": [
       "([mean: 0.99479, std: 0.00042, params: {'max_depth': 9, 'min_child_weight': 1},\n",
       "  mean: 0.99339, std: 0.00066, params: {'max_depth': 9, 'min_child_weight': 3},\n",
       "  mean: 0.99187, std: 0.00056, params: {'max_depth': 9, 'min_child_weight': 5},\n",
       "  mean: 0.99733, std: 0.00033, params: {'max_depth': 11, 'min_child_weight': 1},\n",
       "  mean: 0.99664, std: 0.00041, params: {'max_depth': 11, 'min_child_weight': 3},\n",
       "  mean: 0.99590, std: 0.00047, params: {'max_depth': 11, 'min_child_weight': 5},\n",
       "  mean: 0.99787, std: 0.00030, params: {'max_depth': 13, 'min_child_weight': 1},\n",
       "  mean: 0.99742, std: 0.00040, params: {'max_depth': 13, 'min_child_weight': 3},\n",
       "  mean: 0.99695, std: 0.00039, params: {'max_depth': 13, 'min_child_weight': 5}],\n",
       " {'max_depth': 13, 'min_child_weight': 1},\n",
       " 0.99787328461358127)"
      ]
     },
     "execution_count": 46,
     "metadata": {},
     "output_type": "execute_result"
    }
   ],
   "source": [
    "gsearch1.grid_scores_, gsearch1.best_params_, gsearch1.best_score_"
   ]
  },
  {
   "cell_type": "code",
   "execution_count": 48,
   "metadata": {},
   "outputs": [
    {
     "data": {
      "text/plain": [
       "GridSearchCV(cv=5, error_score='raise',\n",
       "       estimator=XGBClassifier(base_score=0.5, booster='gbtree', colsample_bylevel=1,\n",
       "       colsample_bytree=0.8, gamma=0, learning_rate=0.1, max_delta_step=0,\n",
       "       max_depth=5, min_child_weight=1, missing=None, n_estimators=397,\n",
       "       n_jobs=-1, nthread=None, objective='binary:logistic',\n",
       "       random_state=0, reg_alpha=0, reg_lambda=1, scale_pos_weight=1,\n",
       "       seed=27, silent=True, subsample=0.8),\n",
       "       fit_params=None, iid=False, n_jobs=-1,\n",
       "       param_grid={'max_depth': [12, 13, 14], 'min_child_weight': [1]},\n",
       "       pre_dispatch='2*n_jobs', refit=True, return_train_score='warn',\n",
       "       scoring='roc_auc', verbose=0)"
      ]
     },
     "execution_count": 48,
     "metadata": {},
     "output_type": "execute_result"
    }
   ],
   "source": [
    "param_test1 = {\n",
    "    'max_depth': [12, 13, 14],\n",
    "    'min_child_weight': [1]\n",
    "}\n",
    "\n",
    "gsearch1 = GridSearchCV(estimator=XGBClassifier(learning_rate=0.1,\n",
    "                                                n_estimators=397,\n",
    "                                                max_depth=5,\n",
    "                                                min_child_weight=1,\n",
    "                                                gamma=0,\n",
    "                                                subsample=0.8,\n",
    "                                                colsample_bytree=0.8,\n",
    "                                                objective='binary:logistic',\n",
    "                                                n_jobs=-1,\n",
    "                                                scale_pos_weight=1,\n",
    "                                                seed=27\n",
    "                                               ),\n",
    "                        param_grid=param_test1,\n",
    "                        scoring='roc_auc',\n",
    "                        n_jobs=-1,\n",
    "                        iid=False,\n",
    "                        cv=5\n",
    "                       )\n",
    "gsearch1.fit(X_ros_resampled, y_ros_resampled)"
   ]
  },
  {
   "cell_type": "code",
   "execution_count": 49,
   "metadata": {},
   "outputs": [
    {
     "name": "stderr",
     "output_type": "stream",
     "text": [
      "/Users/yuanbo/anaconda/lib/python2.7/site-packages/sklearn/model_selection/_search.py:761: DeprecationWarning: The grid_scores_ attribute was deprecated in version 0.18 in favor of the more elaborate cv_results_ attribute. The grid_scores_ attribute will not be available from 0.20\n",
      "  DeprecationWarning)\n"
     ]
    },
    {
     "data": {
      "text/plain": [
       "([mean: 0.99768, std: 0.00029, params: {'max_depth': 12, 'min_child_weight': 1},\n",
       "  mean: 0.99787, std: 0.00030, params: {'max_depth': 13, 'min_child_weight': 1},\n",
       "  mean: 0.99798, std: 0.00031, params: {'max_depth': 14, 'min_child_weight': 1}],\n",
       " {'max_depth': 14, 'min_child_weight': 1},\n",
       " 0.99797544517994985)"
      ]
     },
     "execution_count": 49,
     "metadata": {},
     "output_type": "execute_result"
    }
   ],
   "source": [
    "gsearch1.grid_scores_, gsearch1.best_params_, gsearch1.best_score_"
   ]
  }
 ],
 "metadata": {
  "kernelspec": {
   "display_name": "Python 2",
   "language": "python",
   "name": "python2"
  },
  "language_info": {
   "codemirror_mode": {
    "name": "ipython",
    "version": 2
   },
   "file_extension": ".py",
   "mimetype": "text/x-python",
   "name": "python",
   "nbconvert_exporter": "python",
   "pygments_lexer": "ipython2",
   "version": "2.7.14"
  }
 },
 "nbformat": 4,
 "nbformat_minor": 2
}
