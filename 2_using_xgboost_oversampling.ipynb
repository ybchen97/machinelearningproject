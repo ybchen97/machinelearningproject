{
 "cells": [
  {
   "cell_type": "markdown",
   "metadata": {},
   "source": [
    "# Using XGBoost with Oversampling"
   ]
  },
  {
   "cell_type": "markdown",
   "metadata": {},
   "source": [
    "### Same setting up of the dataset"
   ]
  },
  {
   "cell_type": "code",
   "execution_count": 4,
   "metadata": {
    "collapsed": true
   },
   "outputs": [],
   "source": [
    "import pandas as pd\n",
    "df = pd.read_csv('data/res_anon_working.csv')"
   ]
  },
  {
   "cell_type": "code",
   "execution_count": 5,
   "metadata": {},
   "outputs": [],
   "source": [
    "import numpy as np\n",
    "from sklearn.model_selection import train_test_split\n",
    "from xgboost import XGBClassifier\n",
    "from sklearn.metrics import (accuracy_score, \n",
    "                             precision_recall_fscore_support, \n",
    "                             average_precision_score, \n",
    "                             roc_auc_score, \n",
    "                             confusion_matrix,\n",
    "                             precision_recall_curve)\n",
    "import matplotlib.pyplot as plt\n",
    "%matplotlib inline"
   ]
  },
  {
   "cell_type": "markdown",
   "metadata": {},
   "source": [
    "#### Defining X and y"
   ]
  },
  {
   "cell_type": "code",
   "execution_count": 6,
   "metadata": {
    "collapsed": true
   },
   "outputs": [],
   "source": [
    "feat_lst = list(df)\n",
    "feat_lst.pop(-1)\n",
    "X = df[feat_lst]\n",
    "y = df['Class']"
   ]
  },
  {
   "cell_type": "markdown",
   "metadata": {},
   "source": [
    "#### Defining model evaluation functions"
   ]
  },
  {
   "cell_type": "code",
   "execution_count": 26,
   "metadata": {
    "collapsed": true
   },
   "outputs": [],
   "source": [
    "def model_eval(X, y, model):\n",
    "    y_pred = model.predict(X)\n",
    "    accuracy = accuracy_score(y, y_pred)\n",
    "    print(confusion_matrix(y, y_pred))\n",
    "    print(\"Accuracy: %.2f%%\" % (accuracy * 100.0))\n",
    "    tn, fp, fn, tp = confusion_matrix(y, y_pred).ravel()\n",
    "    print('Precision: %f' % (float(tp)/(tp + fp)))\n",
    "    print('Recall: %f' % (float(tp)/(tp + fn)))\n",
    "    y_proba = model.predict_proba(X)[:,1]\n",
    "    print('AUC: %f' % roc_auc_score(y, y_proba))\n",
    "# AUC under ROC curve should be using the probabilities of each sample instead of the actual label for each sample\n",
    "# Hence, it must be using predict_proba and not predict"
   ]
  },
  {
   "cell_type": "code",
   "execution_count": 29,
   "metadata": {
    "collapsed": true
   },
   "outputs": [],
   "source": [
    "def pr_eval(X, y, model):\n",
    "    y_proba = model.predict_proba(X)[:,1]\n",
    "    average_precision = average_precision_score(y, y_proba)\n",
    "    print('Average precision-recall score: {0:0.2f}'.format(average_precision))\n",
    "    \n",
    "    precision, recall, _ = precision_recall_curve(y, y_proba)\n",
    "    plt.step(recall, precision, color='b', alpha=0.2, where='post')\n",
    "    plt.fill_between(recall, precision, step='post', alpha=0.2, color='b')\n",
    "    plt.xlabel('Recall')\n",
    "    plt.ylabel('Precision')\n",
    "    plt.ylim([0.0, 1.05])\n",
    "    plt.xlim([0.0, 1.0])\n",
    "    plt.title('2-class Precision-Recall curve: AP={0:0.2f}'.format(average_precision))\n"
   ]
  },
  {
   "cell_type": "code",
   "execution_count": 10,
   "metadata": {
    "collapsed": true
   },
   "outputs": [],
   "source": [
    "def graph_eval(X, y, model):\n",
    "    p_range = np.arange(0.1, 1, 0.1) \n",
    "    p_range\n",
    "    precisions = []\n",
    "    recalls = []\n",
    "    f1s = []\n",
    "    prob_range = []\n",
    "    # model.fit(X, y)\n",
    "\n",
    "    pred = model.predict_proba(X)\n",
    "    for p in p_range:\n",
    "\n",
    "        pred_tmp = pred[:, 1].copy()\n",
    "        pred_tmp[pred_tmp > p] = 1\n",
    "        pred_tmp[pred_tmp <= p] = 0\n",
    "        tn, fp, fn, tp = confusion_matrix(y, pred_tmp).ravel()\n",
    "        if tp == 0: \n",
    "            continue\n",
    "        prec = (float(tp)/(tp + fp))\n",
    "        rec = (float(tp)/(tp + fn))\n",
    "        f1 = 2 * prec * rec / (prec + rec)\n",
    "        precisions.append(prec)\n",
    "        recalls.append(rec)\n",
    "        f1s.append(f1)\n",
    "        prob_range.append(p)\n",
    "\n",
    "    # plot the results\n",
    "    plt.plot(prob_range, precisions, 'k', label='Precision')\n",
    "    plt.plot(prob_range, recalls, 'g', label='Recall')\n",
    "    plt.plot(prob_range, f1s, 'b', label='F1')\n",
    "    plt.xlabel('Prob Range')\n",
    "    plt.ylabel('Score')\n",
    "    plt.grid(True)\n",
    "    plt.legend(bbox_to_anchor=(1.05, 1))"
   ]
  },
  {
   "cell_type": "markdown",
   "metadata": {},
   "source": [
    "#### Similarly, let's split the dataset into training and testing set"
   ]
  },
  {
   "cell_type": "code",
   "execution_count": 11,
   "metadata": {
    "collapsed": true
   },
   "outputs": [],
   "source": [
    "X_train, X_test, y_train, y_test = train_test_split(X, y, test_size=0.2, random_state=12, stratify=y)\n",
    "# stratify=y splits up the dataset in a way that accounts for the representation of each response class\n",
    "# i.e. proportion of '1' and '0' in y_train and y_test will be the same as the original dataset y\n",
    "# note this method stratifies the dataset that is specified after 'stratify=', which in this is case, is y"
   ]
  },
  {
   "cell_type": "markdown",
   "metadata": {},
   "source": [
    "### Let's try using XGBoost with naive over-sampling"
   ]
  },
  {
   "cell_type": "code",
   "execution_count": 12,
   "metadata": {},
   "outputs": [
    {
     "name": "stdout",
     "output_type": "stream",
     "text": [
      "[(0.0, 70046), (1.0, 70046)]\n"
     ]
    }
   ],
   "source": [
    "from imblearn.over_sampling import RandomOverSampler, SMOTE, ADASYN\n",
    "ros = RandomOverSampler(random_state=0)\n",
    "X_ros_resampled, y_ros_resampled = ros.fit_sample(X_train, y_train)\n",
    "from collections import Counter\n",
    "print sorted(Counter(y_ros_resampled).items())"
   ]
  },
  {
   "cell_type": "markdown",
   "metadata": {},
   "source": [
    "#### Fitting and evaluating the model"
   ]
  },
  {
   "cell_type": "code",
   "execution_count": 13,
   "metadata": {
    "collapsed": true
   },
   "outputs": [],
   "source": [
    "xgb = XGBClassifier(max_depth=5, n_estimators=5000)"
   ]
  },
  {
   "cell_type": "code",
   "execution_count": 14,
   "metadata": {
    "scrolled": false
   },
   "outputs": [
    {
     "data": {
      "text/plain": [
       "XGBClassifier(base_score=0.5, colsample_bylevel=1, colsample_bytree=1,\n",
       "       gamma=0, learning_rate=0.1, max_delta_step=0, max_depth=5,\n",
       "       min_child_weight=1, missing=None, n_estimators=5000, nthread=-1,\n",
       "       objective='binary:logistic', reg_alpha=0, reg_lambda=1,\n",
       "       scale_pos_weight=1, seed=0, silent=True, subsample=1)"
      ]
     },
     "execution_count": 14,
     "metadata": {},
     "output_type": "execute_result"
    }
   ],
   "source": [
    "xgb.fit(X_ros_resampled, y_ros_resampled)"
   ]
  },
  {
   "cell_type": "code",
   "execution_count": 15,
   "metadata": {
    "collapsed": true
   },
   "outputs": [],
   "source": [
    "X_test = X_test.as_matrix()\n",
    "y_test = y_test.as_matrix()"
   ]
  },
  {
   "cell_type": "code",
   "execution_count": 27,
   "metadata": {
    "scrolled": false
   },
   "outputs": [
    {
     "name": "stdout",
     "output_type": "stream",
     "text": [
      "[[16356  1156]\n",
      " [  351   224]]\n",
      "Accuracy: 91.67%\n",
      "Precision: 0.162319\n",
      "Recall: 0.389565\n",
      "AUC: 0.745583\n"
     ]
    },
    {
     "data": {
      "image/png": "[encoded data removed]",
      "text/plain": [
       "<matplotlib.figure.Figure at 0x1a0b01c7d0>"
      ]
     },
     "metadata": {},
     "output_type": "display_data"
    }
   ],
   "source": [
    "model_eval(X_test, y_test, xgb)\n",
    "graph_eval(X_test, y_test, xgb)"
   ]
  },
  {
   "cell_type": "code",
   "execution_count": 30,
   "metadata": {},
   "outputs": [
    {
     "name": "stdout",
     "output_type": "stream",
     "text": [
      "Average precision-recall score: 0.25\n"
     ]
    },
    {
     "data": {
      "image/png": "[encoded data removed]",
      "text/plain": [
       "<matplotlib.figure.Figure at 0x1a100ea910>"
      ]
     },
     "metadata": {},
     "output_type": "display_data"
    }
   ],
   "source": [
    "pr_eval(X_test, y_test, xgb)"
   ]
  },
  {
   "cell_type": "markdown",
   "metadata": {},
   "source": [
    "Looking at this, I'm quite sure it's the lack of proper telling features from the dataset that's causing this bad performance of the algorithm. But before we call it a day, I'll try to tune the parameters of the XGBoost model to see where this goes!"
   ]
  },
  {
   "cell_type": "markdown",
   "metadata": {},
   "source": [
    "### Upcoming updates:\n",
    "* Tuning of the XGBoost parameters\n",
    "* Utilizing undersampling methods to see the differences in the results of the models"
   ]
  }
 ],
 "metadata": {
  "kernelspec": {
   "display_name": "Python 2",
   "language": "python",
   "name": "python2"
  },
  "language_info": {
   "codemirror_mode": {
    "name": "ipython",
    "version": 2
   },
   "file_extension": ".py",
   "mimetype": "text/x-python",
   "name": "python",
   "nbconvert_exporter": "python",
   "pygments_lexer": "ipython2",
   "version": "2.7.14"
  }
 },
 "nbformat": 4,
 "nbformat_minor": 2
}
